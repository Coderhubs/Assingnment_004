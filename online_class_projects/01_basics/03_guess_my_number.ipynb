{
  "nbformat": 4,
  "nbformat_minor": 0,
  "metadata": {
    "colab": {
      "provenance": []
    },
    "kernelspec": {
      "name": "python3",
      "display_name": "Python 3"
    },
    "language_info": {
      "name": "python"
    }
  },
  "cells": [
    {
      "cell_type": "code",
      "source": [
        "import random\n",
        "\n",
        "def secret_num():\n",
        "    guess_num: int = random.randint(0, 99)\n",
        "    attempt = 0\n",
        "\n",
        "    print(\"🎯 I'm thinking of a number between 0 to 99 🎯\")\n",
        "\n",
        "    guess_input: int = int(input(\"\\nGuess a number: \"))\n",
        "    attempt += 1\n",
        "\n",
        "    while guess_input != guess_num:\n",
        "        if guess_input < guess_num:\n",
        "            print(\"📉 Guess too low\")\n",
        "        else:\n",
        "            print(\"📈 Guess too high\")\n",
        "\n",
        "        print()\n",
        "        guess_input = int(input(\"Guess again: \"))\n",
        "        attempt += 1  # Increment attempt count\n",
        "\n",
        "    print(f\"🎉 Congrats! The number was: {guess_num}. You tried {attempt} times. 🎯\")\n",
        "\n",
        "secret_num()\n"
      ],
      "metadata": {
        "colab": {
          "base_uri": "https://localhost:8080/"
        },
        "id": "INIPk4sVsr-c",
        "outputId": "f3a21956-4911-4a75-fb20-0bc1771227f4"
      },
      "execution_count": 7,
      "outputs": [
        {
          "output_type": "stream",
          "name": "stdout",
          "text": [
            "🎯 I'm thinking of a number between 0 to 99 🎯\n",
            "\n",
            "Guess a number: 50\n",
            "📉 Guess too low\n",
            "\n",
            "Guess again: 60\n",
            "📉 Guess too low\n",
            "\n",
            "Guess again: 70\n",
            "🎉 Congrats! The number was: 70. You tried 3 times. 🎯\n"
          ]
        }
      ]
    }
  ]
}