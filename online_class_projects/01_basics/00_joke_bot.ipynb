{
  "nbformat": 4,
  "nbformat_minor": 0,
  "metadata": {
    "colab": {
      "provenance": []
    },
    "kernelspec": {
      "name": "python3",
      "display_name": "Python 3"
    },
    "language_info": {
      "name": "python"
    }
  },
  "cells": [
    {
      "cell_type": "code",
      "source": [
        "# basics / 00_joke_bot.md\n",
        "\n",
        "\n",
        "PROMPT: str = \"🤖 What do you want? \"\n",
        "SORRY: str = \"😔 Sorry, I only tell jokes!\"\n",
        "JOKE: str = \" \\n😂 Why do Java developers wear glasses? Because they don't C# 🤓.\"\n",
        "\n",
        "def joke_bot():\n",
        "    user_Input = input(PROMPT).strip().lower()\n",
        "\n",
        "    if user_Input == \"joke\":\n",
        "        print(\"\\n 🎉Here's a joke for you! 🤩\")\n",
        "        print(JOKE)\n",
        "    else:\n",
        "        print(SORRY)\n",
        "\n",
        "joke_bot()\n"
      ],
      "metadata": {
        "colab": {
          "base_uri": "https://localhost:8080/"
        },
        "id": "7fYdI2FNVZFr",
        "outputId": "67a7e95c-f13e-46b7-c661-830811a3352e"
      },
      "execution_count": 28,
      "outputs": [
        {
          "output_type": "stream",
          "name": "stdout",
          "text": [
            "🤖 What do you want? joke\n",
            "\n",
            " 🎉Here's a joke for you! 🤩\n",
            " \n",
            "😂 Why do Java developers wear glasses? Because they don't C# 🤓.\n"
          ]
        }
      ]
    },
    {
      "cell_type": "code",
      "source": [
        "# import pyjokes library for Extra challenging fun ingredients\n",
        "\n",
        "\n",
        "!pip install pyjokes\n",
        "\n"
      ],
      "metadata": {
        "colab": {
          "base_uri": "https://localhost:8080/"
        },
        "id": "hlHvGe4CT96b",
        "outputId": "d51f4168-8c48-4d6a-da55-204799b5bb0f"
      },
      "execution_count": 24,
      "outputs": [
        {
          "output_type": "stream",
          "name": "stdout",
          "text": [
            "Requirement already satisfied: pyjokes in /usr/local/lib/python3.11/dist-packages (0.8.3)\n"
          ]
        }
      ]
    },
    {
      "cell_type": "code",
      "source": [
        "# Extra Challenging Code\n",
        "# 🎭 Importing pyjokes for lighthearted humor\n",
        "# The bot will deliver random programming jokes to keep things fun\n",
        "\n",
        "import pyjokes\n",
        "import time  # ⏳ Importing time for natural delays\n",
        "\n",
        "\n",
        "PROMPT = \"🤖 What do you want? \"\n",
        "SORRY = \"❌ Sorry, I only tell jokes.\"\n",
        "\n",
        "def main():\n",
        "    while True:\n",
        "        user_input = input(PROMPT).strip().lower()\n",
        "\n",
        "        if user_input == \"joke\" or user_input == \"tell me a joke\":\n",
        "            print(\"\\n😂 Here's a joke for you:\")\n",
        "\n",
        "            time.sleep(3)  # ⏳ Delay for suspense\n",
        "\n",
        "            print(f\"\\n👉 {pyjokes.get_joke()}\")\n",
        "        else:\n",
        "            print(SORRY)\n",
        "\n",
        "        more_jokes = input(\"\\n🔄 Another joke? (yes/no): \").strip().lower()\n",
        "\n",
        "        if more_jokes == \"yes\":\n",
        "          print(\"\\n🔄 Thinking ....\\n\")\n",
        "          time.sleep(5)\n",
        "          continue\n",
        "        elif more_jokes == \"no\":\n",
        "            print(\"\\n👋 Okay, have a great day!\")\n",
        "            break\n",
        "        else:\n",
        "            print(\"\\n⚠️ Invalid input. Exiting. Have a great day!\")\n",
        "            break\n",
        "\n",
        "main()\n"
      ],
      "metadata": {
        "colab": {
          "base_uri": "https://localhost:8080/"
        },
        "id": "2hoFqUCsZxhD",
        "outputId": "de5e5493-6a5a-4bcc-93c9-89d8bd7c8ce8"
      },
      "execution_count": 38,
      "outputs": [
        {
          "output_type": "stream",
          "name": "stdout",
          "text": [
            "🤖 What do you want? joke\n",
            "\n",
            "😂 Here's a joke for you:\n",
            "\n",
            "👉 What did the Java code say to the C code? A: You've got no class.\n",
            "\n",
            "🔄 Another joke? (yes/no): yes\n",
            "\n",
            "🔄 Thinking ....\n",
            "\n",
            "🤖 What do you want? tell me a joke\n",
            "\n",
            "😂 Here's a joke for you:\n",
            "\n",
            "👉 Debugging is like an onion. There are multiple layers to it, and the more you peel them back.\n",
            "\n",
            "🔄 Another joke? (yes/no): no\n",
            "\n",
            "👋 Okay, have a great day!\n"
          ]
        }
      ]
    },
    {
      "cell_type": "markdown",
      "source": [],
      "metadata": {
        "id": "hil8NXOZWWdk"
      }
    }
  ]
}