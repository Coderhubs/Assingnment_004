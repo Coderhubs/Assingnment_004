{
  "nbformat": 4,
  "nbformat_minor": 0,
  "metadata": {
    "colab": {
      "provenance": []
    },
    "kernelspec": {
      "name": "python3",
      "display_name": "Python 3"
    },
    "language_info": {
      "name": "python"
    }
  },
  "cells": [
    {
      "cell_type": "code",
      "execution_count": 13,
      "metadata": {
        "colab": {
          "base_uri": "https://localhost:8080/"
        },
        "id": "l22n9YMuleKv",
        "outputId": "9af0c95e-2152-4e83-ce99-16b0e891d96a"
      },
      "outputs": [
        {
          "output_type": "stream",
          "name": "stdout",
          "text": [
            "10\n",
            "9\n",
            "8\n",
            "7\n",
            "6\n",
            "5\n",
            "4\n",
            "3\n",
            "2\n",
            "1\n",
            "0\n",
            "\n",
            "🚀LiftOff!🚀\n"
          ]
        }
      ],
      "source": [
        "def lift_off():\n",
        "\n",
        "# range(start, stop, step)\n",
        "  for i in range(10 , -1 , -1):\n",
        "     print(i)\n",
        "\n",
        "  print(\"\\n🚀LiftOff!🚀\")\n",
        "\n",
        "\n",
        "lift_off()"
      ]
    }
  ]
}