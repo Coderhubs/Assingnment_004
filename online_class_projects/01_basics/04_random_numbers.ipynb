{
  "nbformat": 4,
  "nbformat_minor": 0,
  "metadata": {
    "colab": {
      "provenance": []
    },
    "kernelspec": {
      "name": "python3",
      "display_name": "Python 3"
    },
    "language_info": {
      "name": "python"
    }
  },
  "cells": [
    {
      "cell_type": "code",
      "execution_count": 14,
      "metadata": {
        "colab": {
          "base_uri": "https://localhost:8080/"
        },
        "id": "t_8NhDprxx09",
        "outputId": "edac5c5d-a326-4145-b958-22d604b31bb3"
      },
      "outputs": [
        {
          "output_type": "stream",
          "name": "stdout",
          "text": [
            "90\n",
            "100\n",
            "93\n",
            "30\n",
            "64\n",
            "81\n",
            "61\n",
            "100\n",
            "15\n",
            "7\n"
          ]
        }
      ],
      "source": [
        "import random\n",
        "\n",
        "N_NUMBERS : int = 10\n",
        "MIN_VALUE : int = 1\n",
        "MAX_VALUE : int = 100\n",
        "\n",
        "\n",
        "def random_numbers():\n",
        "\n",
        "   for i in range(N_NUMBERS):\n",
        "     Value = random.randint(MIN_VALUE , MAX_VALUE)\n",
        "     print(Value)\n",
        "\n",
        "random_numbers()"
      ]
    }
  ]
}