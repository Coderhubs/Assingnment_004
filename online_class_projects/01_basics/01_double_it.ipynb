{
  "nbformat": 4,
  "nbformat_minor": 0,
  "metadata": {
    "colab": {
      "provenance": []
    },
    "kernelspec": {
      "name": "python3",
      "display_name": "Python 3"
    },
    "language_info": {
      "name": "python"
    }
  },
  "cells": [
    {
      "cell_type": "code",
      "source": [
        "def value():\n",
        "    curr_value: int = int(input(\"Enter a number: \"))\n",
        "\n",
        "    while True:\n",
        "        curr_value = curr_value * 2\n",
        "\n",
        "        if curr_value < 100:\n",
        "            print(curr_value)\n",
        "        else:\n",
        "            print(curr_value)\n",
        "            print(\"Stopping as value reached 100 or more.\")\n",
        "            break\n",
        "\n",
        "value()\n"
      ],
      "metadata": {
        "colab": {
          "base_uri": "https://localhost:8080/"
        },
        "id": "Lli1yCyzkmdL",
        "outputId": "e620730a-2633-41bf-9fd0-36c51aee35f7"
      },
      "execution_count": 11,
      "outputs": [
        {
          "output_type": "stream",
          "name": "stdout",
          "text": [
            "Enter a number: 9\n",
            "18\n",
            "36\n",
            "72\n",
            "144\n",
            "Stopping as value reached 100 or more.\n"
          ]
        }
      ]
    }
  ]
}