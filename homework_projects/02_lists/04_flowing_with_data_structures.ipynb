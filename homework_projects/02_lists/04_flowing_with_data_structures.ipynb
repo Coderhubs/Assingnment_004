{
  "nbformat": 4,
  "nbformat_minor": 0,
  "metadata": {
    "colab": {
      "provenance": []
    },
    "kernelspec": {
      "name": "python3",
      "display_name": "Python 3"
    },
    "language_info": {
      "name": "python"
    }
  },
  "cells": [
    {
      "cell_type": "code",
      "execution_count": 7,
      "metadata": {
        "colab": {
          "base_uri": "https://localhost:8080/"
        },
        "id": "gcwcDyvxvPip",
        "outputId": "f6fcf32c-8efc-4618-abba-a6bb720d4208"
      },
      "outputs": [
        {
          "output_type": "stream",
          "name": "stdout",
          "text": [
            "💬 Enter a message: Python is fun !\n",
            "\n",
            "📜 List before: []\n",
            "\n",
            "✅ List after: ['Python is fun !', 'Python is fun !', 'Python is fun !']\n"
          ]
        }
      ],
      "source": [
        "def flowing_data(my_list, data):\n",
        "    for i in range(3):\n",
        "        my_list.append(data)\n",
        "\n",
        "def main():\n",
        "    user_input = input(\"💬 Enter a message: \")\n",
        "\n",
        "    my_list = []\n",
        "\n",
        "    print(f\"\\n📜 List before: {my_list}\")\n",
        "\n",
        "    flowing_data(my_list, user_input)\n",
        "\n",
        "    print(f\"\\n✅ List after: {my_list}\")\n",
        "\n",
        "main()\n"
      ]
    }
  ]
}