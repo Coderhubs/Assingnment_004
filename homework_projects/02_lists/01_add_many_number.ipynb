{
  "nbformat": 4,
  "nbformat_minor": 0,
  "metadata": {
    "colab": {
      "provenance": []
    },
    "kernelspec": {
      "name": "python3",
      "display_name": "Python 3"
    },
    "language_info": {
      "name": "python"
    }
  },
  "cells": [
    {
      "cell_type": "code",
      "execution_count": 4,
      "metadata": {
        "colab": {
          "base_uri": "https://localhost:8080/"
        },
        "id": "LA3z2x2F-0vf",
        "outputId": "14b11a96-4195-44de-c2a8-45ee5ede1792"
      },
      "outputs": [
        {
          "output_type": "stream",
          "name": "stdout",
          "text": [
            "15\n"
          ]
        }
      ],
      "source": [
        "def add_many_numbers(numbers):\n",
        "\n",
        "    total = 0\n",
        "\n",
        "    for num in numbers:\n",
        "        total += num\n",
        "\n",
        "    return total\n",
        "\n",
        "def sum_of_list():\n",
        "    numbers: list[int] = [1,2,3,4,5]\n",
        "\n",
        "    print(add_many_numbers(numbers))\n",
        "\n",
        "sum_of_list()\n"
      ]
    }
  ]
}