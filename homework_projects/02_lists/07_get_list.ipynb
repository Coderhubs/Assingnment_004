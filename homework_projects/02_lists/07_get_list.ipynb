{
  "nbformat": 4,
  "nbformat_minor": 0,
  "metadata": {
    "colab": {
      "provenance": []
    },
    "kernelspec": {
      "name": "python3",
      "display_name": "Python 3"
    },
    "language_info": {
      "name": "python"
    }
  },
  "cells": [
    {
      "cell_type": "code",
      "execution_count": 14,
      "metadata": {
        "colab": {
          "base_uri": "https://localhost:8080/"
        },
        "id": "OuY09gqgBw26",
        "outputId": "cf997974-8d53-4816-f957-dfc3b1438eda"
      },
      "outputs": [
        {
          "output_type": "stream",
          "name": "stdout",
          "text": [
            "🪐 Enter item: Coffee\n",
            "\n",
            "🔸Add More items: Bread\n",
            "\n",
            "🔸Add More items: Egg\n",
            "\n",
            "🔸Add More items: Jam\n",
            "\n",
            "🔸Add More items: Fruits\n",
            "\n",
            "🔸Add More items: \n",
            "\n",
            "🚀 Your list: ['Coffee', 'Bread', 'Egg', 'Jam', 'Fruits'] ⭐\n"
          ]
        }
      ],
      "source": [
        "def get_lst():\n",
        "    lst = []\n",
        "    val = input(\"🪐 Enter item: \")\n",
        "\n",
        "    while val:\n",
        "        lst.append(val)\n",
        "        val = input(\"\\n🔸Add More items: \")\n",
        "\n",
        "    print(f\"\\n🚀 Your list: {lst} ⭐\")\n",
        "\n",
        "get_lst()\n"
      ]
    }
  ]
}