{
  "nbformat": 4,
  "nbformat_minor": 0,
  "metadata": {
    "colab": {
      "provenance": []
    },
    "kernelspec": {
      "name": "python3",
      "display_name": "Python 3"
    },
    "language_info": {
      "name": "python"
    }
  },
  "cells": [
    {
      "cell_type": "code",
      "execution_count": 14,
      "metadata": {
        "colab": {
          "base_uri": "https://localhost:8080/"
        },
        "id": "hdKJx_pX_3zt",
        "outputId": "7f99e812-fcb1-4a7b-c057-cfbbe8a2bdae"
      },
      "outputs": [
        {
          "output_type": "stream",
          "name": "stdout",
          "text": [
            "📌 Original numbers: [1, 2, 3, 4]\n",
            "\n",
            "✨ Doubled numbers: [2, 4, 6, 8]\n"
          ]
        }
      ],
      "source": [
        "def double_list():\n",
        "\n",
        "   numbers: list[int] = [1,2,3,4]\n",
        "   print(\"📌 Original numbers:\", numbers)  # Print original list\n",
        "\n",
        "\n",
        "   for i in range(len(numbers)):\n",
        "      numbers[i] = numbers[i] * 2\n",
        "   print(\"\\n✨ Doubled numbers:\", numbers)  # Print doubled list\n",
        "\n",
        "\n",
        "double_list()"
      ]
    }
  ]
}