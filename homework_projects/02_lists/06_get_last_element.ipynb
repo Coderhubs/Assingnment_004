{
  "nbformat": 4,
  "nbformat_minor": 0,
  "metadata": {
    "colab": {
      "provenance": []
    },
    "kernelspec": {
      "name": "python3",
      "display_name": "Python 3"
    },
    "language_info": {
      "name": "python"
    }
  },
  "cells": [
    {
      "cell_type": "code",
      "execution_count": 2,
      "metadata": {
        "colab": {
          "base_uri": "https://localhost:8080/"
        },
        "id": "tq1aDTEgAHzA",
        "outputId": "a4c38202-5a44-49f6-8892-8c7feab28ef8"
      },
      "outputs": [
        {
          "output_type": "stream",
          "name": "stdout",
          "text": [
            "\n",
            "🌈✨ Welcome to the Ultimate List Maker! ✨🌈\n",
            "\n",
            "🔹 Add an item (or press Enter to finish): Wake up early  \n",
            "🔹 Add an item (or press Enter to finish): Exercise  \n",
            "🔹 Add an item (or press Enter to finish): Work on project\n",
            "🔹 Add an item (or press Enter to finish): Read a book  \n",
            "🔹 Add an item (or press Enter to finish): \n",
            "\n",
            "📋 Your final list: 📌 ['Wake up early  ', 'Exercise  ', 'Work on project', 'Read a book  ']\n",
            "\n",
            "\n",
            "💡 Last element: 🎯 Read a book  \n",
            "\n"
          ]
        }
      ],
      "source": [
        "def print_last_item(lst):\n",
        "    print(f\"\\n💡 Last element: 🎯 {lst[-1]}\\n\")  # Display the last item\n",
        "\n",
        "def get_user_list():\n",
        "    lst = []\n",
        "\n",
        "    user_lst = input(\"🔹 Add an item (or press Enter to finish): \")\n",
        "\n",
        "    while user_lst != \"\":\n",
        "        lst.append(user_lst)\n",
        "        user_lst = input(\"🔹 Add an item (or press Enter to finish): \")\n",
        "\n",
        "    return lst\n",
        "\n",
        "def main():\n",
        "    print(\"\\n🌈✨ Welcome to the Ultimate List Maker! ✨🌈\\n\")\n",
        "\n",
        "    lst = get_user_list()\n",
        "\n",
        "    if lst:\n",
        "        print(f\"\\n📋 Your final list: 📌 {lst}\\n\")\n",
        "        print_last_item(lst)  # Now printing the last item instead of the first\n",
        "    else:\n",
        "        print(\"⚠️ [WARNING] No items entered. Please try again!\")\n",
        "\n",
        "main()\n"
      ]
    }
  ]
}