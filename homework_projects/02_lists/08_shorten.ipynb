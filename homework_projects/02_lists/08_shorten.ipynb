{
  "nbformat": 4,
  "nbformat_minor": 0,
  "metadata": {
    "colab": {
      "provenance": []
    },
    "kernelspec": {
      "name": "python3",
      "display_name": "Python 3"
    },
    "language_info": {
      "name": "python"
    }
  },
  "cells": [
    {
      "cell_type": "code",
      "execution_count": 9,
      "metadata": {
        "colab": {
          "base_uri": "https://localhost:8080/"
        },
        "id": "HSQZd-QtGzoh",
        "outputId": "fb2fb27e-a4ba-4e2e-e645-edd911b4fbb9"
      },
      "outputs": [
        {
          "output_type": "stream",
          "name": "stdout",
          "text": [
            "\n",
            "✏️ Enter list items (Press Enter to stop):\n",
            "\n",
            "➤ Enter an item: 🍎 Apple\n",
            "\n",
            "➤ Enter an item: 🍒 Cherry\n",
            "\n",
            "➤ Enter an item: 🍉 Watermelon\n",
            "\n",
            "➤ Enter an item: 🍍 Pineapple\n",
            "\n",
            "➤ Enter an item: 🥝 Kiwi\n",
            "\n",
            "➤ Enter an item: \n",
            "\n",
            "⚜️ List Created Successfully!⚜️\n",
            "\n",
            "\n",
            "🛒Full List Before Shortening:['🍎 Apple', '🍒 Cherry', '🍉 Watermelon', '🍍 Pineapple', '🥝 Kiwi']🛒 \n",
            "\n",
            "🚫 Last element '🥝 Kiwi' removed\n",
            "🚫 Last element '🍍 Pineapple' removed\n",
            "\n",
            "🎇 Final List After Shortening:['🍎 Apple', '🍒 Cherry', '🍉 Watermelon'] 🎇 \n",
            "\n"
          ]
        }
      ],
      "source": [
        "Max_length = 3\n",
        "\n",
        "def shorten(lst):\n",
        "    print(f\"\\n🛒Full List Before Shortening:{lst}🛒 \\n\")\n",
        "\n",
        "    while len(lst) > Max_length:\n",
        "        last_element = lst.pop()\n",
        "        print(f\"🚫 Last element '{last_element}' removed\")\n",
        "\n",
        "    print(f\"\\n🎇 Final List After Shortening:{lst} 🎇 \\n\")\n",
        "\n",
        "def get_lst():\n",
        "   lst = []\n",
        "   print(\"\\n✏️ Enter list items (Press Enter to stop):\\n\")\n",
        "\n",
        "   user_input = input(\"➤ Enter an item: \")\n",
        "\n",
        "   while user_input != \"\" :\n",
        "       lst.append(user_input)\n",
        "       user_input = input(\"\\n➤ Enter an item: \")\n",
        "\n",
        "   print(\"\\n⚜️ List Created Successfully!⚜️\\n\")\n",
        "   return lst\n",
        "\n",
        "def main():\n",
        "    lst = get_lst()\n",
        "    shorten(lst)\n",
        "\n",
        "main()\n"
      ]
    }
  ]
}