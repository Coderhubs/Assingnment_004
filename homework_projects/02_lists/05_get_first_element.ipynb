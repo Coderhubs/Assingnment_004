{
  "nbformat": 4,
  "nbformat_minor": 0,
  "metadata": {
    "colab": {
      "provenance": []
    },
    "kernelspec": {
      "name": "python3",
      "display_name": "Python 3"
    },
    "language_info": {
      "name": "python"
    }
  },
  "cells": [
    {
      "cell_type": "code",
      "execution_count": 41,
      "metadata": {
        "colab": {
          "base_uri": "https://localhost:8080/"
        },
        "id": "Tmqq-FTvzp8p",
        "outputId": "d8c5c8ba-0567-4fcc-b33e-65d4b2c1b4c5"
      },
      "outputs": [
        {
          "output_type": "stream",
          "name": "stdout",
          "text": [
            "\n",
            "🌈✨ Welcome to the Ultimate List Maker! ✨🌈\n",
            "\n",
            "🔹 Add an item (or press Enter to finish): Basketball  \n",
            "🔹 Add an item (or press Enter to finish): Cricket\n",
            "🔹 Add an item (or press Enter to finish): Tennis  \n",
            "🔹 Add an item (or press Enter to finish): Soccer\n",
            "🔹 Add an item (or press Enter to finish): \n",
            "\n",
            "📋 Your final list: 📌 ['Basketball  ', 'Cricket', 'Tennis  ', 'Soccer']\n",
            "\n",
            "\n",
            "💡 First element: 🎯 Basketball  \n",
            "\n"
          ]
        }
      ],
      "source": [
        "def print_first_item(lst):\n",
        "\n",
        "    print(f\"\\n💡 First element: 🎯 {lst[0]}\\n\")\n",
        "\n",
        "\n",
        "def  get_user_list():\n",
        "\n",
        "    lst = []\n",
        "\n",
        "    user_lst = input(\"🔹 Add an item (or press Enter to finish): \")\n",
        "\n",
        "    while user_lst != \"\":\n",
        "\n",
        "        lst.append(user_lst)\n",
        "\n",
        "        user_lst = input(\"🔹 Add an item (or press Enter to finish): \")\n",
        "\n",
        "    return lst\n",
        "\n",
        "\n",
        "def main():\n",
        "\n",
        "      print(\"\\n🌈✨ Welcome to the Ultimate List Maker! ✨🌈\\n\")\n",
        "\n",
        "      lst =  get_user_list()\n",
        "      if lst:\n",
        "\n",
        "\n",
        "        print(f\"\\n📋 Your final list: 📌 {lst}\\n\")\n",
        "\n",
        "        print_first_item(lst)\n",
        "      else:\n",
        "        print(\"⚠️ [WARNING] No items entered. Please try again!\")\n",
        "\n",
        "\n",
        "main()"
      ]
    }
  ]
}