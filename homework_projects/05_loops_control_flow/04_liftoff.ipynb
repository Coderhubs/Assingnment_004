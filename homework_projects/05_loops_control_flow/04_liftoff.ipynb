{
  "nbformat": 4,
  "nbformat_minor": 0,
  "metadata": {
    "colab": {
      "provenance": []
    },
    "kernelspec": {
      "name": "python3",
      "display_name": "Python 3"
    },
    "language_info": {
      "name": "python"
    }
  },
  "cells": [
    {
      "cell_type": "code",
      "execution_count": 11,
      "metadata": {
        "colab": {
          "base_uri": "https://localhost:8080/"
        },
        "id": "_Qb8jdjq8N7U",
        "outputId": "5b479ba2-ca16-46c9-9fc1-c2007249800b"
      },
      "outputs": [
        {
          "output_type": "stream",
          "name": "stdout",
          "text": [
            "10  9  8  7  6  5  4  3  2  1  0      \n",
            "              \n",
            "\n",
            "🚀LiftOff!🚀\n",
            "          \n",
            "        \n"
          ]
        }
      ],
      "source": [
        "def lift_off():\n",
        "\n",
        "# range(start, stop, step)\n",
        "  for i in range(10 , -1 , -1):\n",
        "     print(i, end=\"  \")\n",
        "\n",
        "  print(f\"\"\"\n",
        "              \\n\\n🚀LiftOff!🚀\n",
        "\n",
        "        \"\"\")\n",
        "\n",
        "\n",
        "lift_off()\n",
        ""
      ]
    }
  ]
}