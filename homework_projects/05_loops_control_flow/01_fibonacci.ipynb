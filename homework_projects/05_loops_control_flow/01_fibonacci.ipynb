{
  "nbformat": 4,
  "nbformat_minor": 0,
  "metadata": {
    "colab": {
      "provenance": []
    },
    "kernelspec": {
      "name": "python3",
      "display_name": "Python 3"
    },
    "language_info": {
      "name": "python"
    }
  },
  "cells": [
    {
      "cell_type": "code",
      "execution_count": 9,
      "metadata": {
        "colab": {
          "base_uri": "https://localhost:8080/"
        },
        "id": "C5xNgvGlrFwT",
        "outputId": "45e4beba-fdff-4206-c749-0410de43a3ba"
      },
      "outputs": [
        {
          "output_type": "stream",
          "name": "stdout",
          "text": [
            "🐉 Generating Fibonacci sequence up to 10000 🐉\n",
            "\n",
            "0 1 1 2 3 5 8 13 21 34 55 89 144 233 377 610 987 1597 2584 4181 6765 \n",
            "\n",
            "✨ Fibonacci sequence generation complete! ✨\n"
          ]
        }
      ],
      "source": [
        "import time\n",
        "\n",
        "Max_value : int = 10000\n",
        "\n",
        "def fibonacci():\n",
        "\n",
        "    curr_term: int = 0\n",
        "    next_term: int = 1\n",
        "\n",
        "    print(\"🐉 Generating Fibonacci sequence up to\", Max_value, \"🐉\\n\")\n",
        "\n",
        "    time.sleep(3)\n",
        "\n",
        "    while curr_term < Max_value:\n",
        "\n",
        "        print(curr_term, end=\" \")\n",
        "\n",
        "        term_after_next = curr_term + next_term\n",
        "        curr_term = next_term\n",
        "        next_term = term_after_next\n",
        "\n",
        "    time.sleep(1)\n",
        "\n",
        "\n",
        "    print(f\"\\n\\n✨ Fibonacci sequence generation complete! ✨\")\n",
        "\n",
        "fibonacci()\n",
        "\n"
      ]
    }
  ]
}