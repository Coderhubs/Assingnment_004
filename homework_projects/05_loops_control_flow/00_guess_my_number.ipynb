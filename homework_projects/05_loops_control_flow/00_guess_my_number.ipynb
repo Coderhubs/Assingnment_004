{
  "nbformat": 4,
  "nbformat_minor": 0,
  "metadata": {
    "colab": {
      "provenance": []
    },
    "kernelspec": {
      "name": "python3",
      "display_name": "Python 3"
    },
    "language_info": {
      "name": "python"
    }
  },
  "cells": [
    {
      "cell_type": "code",
      "execution_count": 7,
      "metadata": {
        "colab": {
          "base_uri": "https://localhost:8080/"
        },
        "id": "Z9EvnCIQxZTF",
        "outputId": "3579d648-72fe-4480-90d0-b3d7103ff85b"
      },
      "outputs": [
        {
          "output_type": "stream",
          "name": "stdout",
          "text": [
            "🎯 I'm thinking of a number between 0 to 99 🎯\n",
            "\n",
            "Guess a number: 50\n",
            "📈 Guess too high\n",
            "\n",
            "Guess again: 40\n",
            "📉 Guess too low\n",
            "\n",
            "Guess again: 49\n",
            "📈 Guess too high\n",
            "\n",
            "Guess again: 48\n",
            "📈 Guess too high\n",
            "\n",
            "Guess again: 45\n",
            "📈 Guess too high\n",
            "\n",
            "Guess again: 44\n",
            "📈 Guess too high\n",
            "\n",
            "Guess again: 43\n",
            "📈 Guess too high\n",
            "\n",
            "Guess again: 42\n",
            "📈 Guess too high\n",
            "\n",
            "Guess again: 41\n",
            "🎉 Congrats! The number was: 41. You tried 9 times. 🎯\n"
          ]
        }
      ],
      "source": [
        "import random\n",
        "\n",
        "def secret_num():\n",
        "    guess_num: int = random.randint(0, 99)\n",
        "    attempt = 0\n",
        "\n",
        "    print(\"🎯 I'm thinking of a number between 0 to 99 🎯\")\n",
        "\n",
        "    guess_input: int = int(input(\"\\nGuess a number: \"))\n",
        "    attempt += 1\n",
        "\n",
        "    while guess_input != guess_num:\n",
        "        if guess_input < guess_num:\n",
        "            print(\"📉 Guess too low\")\n",
        "        else:\n",
        "            print(\"📈 Guess too high\")\n",
        "\n",
        "        print()\n",
        "        guess_input = int(input(\"Guess again: \"))\n",
        "        attempt += 1  # Increment attempt count\n",
        "\n",
        "    print(f\"🎉 Congrats! The number was: {guess_num}. You tried {attempt} times. 🎯\")\n",
        "\n",
        "secret_num()\n"
      ]
    }
  ]
}