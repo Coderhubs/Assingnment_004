{
  "nbformat": 4,
  "nbformat_minor": 0,
  "metadata": {
    "colab": {
      "provenance": []
    },
    "kernelspec": {
      "name": "python3",
      "display_name": "Python 3"
    },
    "language_info": {
      "name": "python"
    }
  },
  "cells": [
    {
      "cell_type": "code",
      "execution_count": 2,
      "metadata": {
        "colab": {
          "base_uri": "https://localhost:8080/"
        },
        "id": "5SOFa7wXzlPc",
        "outputId": "7ed1c591-c97b-4271-87e7-13c819f42848"
      },
      "outputs": [
        {
          "output_type": "stream",
          "name": "stdout",
          "text": [
            "Enter a number: 8\n",
            "16\n",
            "32\n",
            "64\n",
            "128\n",
            "\n",
            "Stopping as value reached 100 or more.\n"
          ]
        }
      ],
      "source": [
        "\n",
        "def value():\n",
        "    curr_value: int = int(input(\"Enter a number: \"))\n",
        "\n",
        "    while True:\n",
        "        curr_value = curr_value * 2\n",
        "\n",
        "        if curr_value < 100:\n",
        "            print(curr_value)\n",
        "        else:\n",
        "            print(curr_value)\n",
        "            print(\"\\nStopping as value reached 100 or more.\")\n",
        "            break\n",
        "\n",
        "value()"
      ]
    }
  ]
}