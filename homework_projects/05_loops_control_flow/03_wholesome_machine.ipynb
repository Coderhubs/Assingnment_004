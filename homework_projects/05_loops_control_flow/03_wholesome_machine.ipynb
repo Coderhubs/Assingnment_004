{
  "nbformat": 4,
  "nbformat_minor": 0,
  "metadata": {
    "colab": {
      "provenance": []
    },
    "kernelspec": {
      "name": "python3",
      "display_name": "Python 3"
    },
    "language_info": {
      "name": "python"
    }
  },
  "cells": [
    {
      "cell_type": "code",
      "execution_count": 28,
      "metadata": {
        "colab": {
          "base_uri": "https://localhost:8080/"
        },
        "id": "N866cSr303Yw",
        "outputId": "70ec8a0d-8455-4fdf-e243-f6783433ff57"
      },
      "outputs": [
        {
          "output_type": "stream",
          "name": "stdout",
          "text": [
            "\n",
            "🌟Type this affirmation to empower yourself🌟:\n",
            "\n",
            "📝My mind is full of uplifting and empowering thoughts.🌟\n",
            "\n",
            "✍️ Your turn: great\n",
            "\n",
            "Oops! Try again. 🎯\n",
            "\n",
            "🌟Manifest greatness—type this affirmation🌟:\n",
            "\n",
            "📝My mind is full of uplifting and empowering thoughts.🌟\n",
            "\n",
            "💬 Give it another shot: 📝My mind is full of uplifting and empowering thoughts.🌟\n",
            "\n",
            "Boom! That’s the spirit! Keep going! 🔥\n"
          ]
        }
      ],
      "source": [
        "Affirmation : str = \"📝My mind is full of uplifting and empowering thoughts.🌟\"\n",
        "\n",
        "import time\n",
        "\n",
        "def  wholesome_machine():\n",
        "\n",
        "    print(f\"\\n🌟Type this affirmation to empower yourself🌟:\\n\\n{Affirmation}\")\n",
        "\n",
        "    print()\n",
        "    user_feedback = input(\"✍️ Your turn: \")\n",
        "\n",
        "    while user_feedback != Affirmation:\n",
        "\n",
        "        time.sleep(1)\n",
        "        print(\"\\nOops! Try again. 🎯\")\n",
        "\n",
        "        time.sleep(2)\n",
        "        print(f\"\\n🌟Manifest greatness—type this affirmation🌟:\\n\\n{Affirmation}\")\n",
        "\n",
        "        print()\n",
        "        user_feedback = input(\"💬 Give it another shot: \" )\n",
        "\n",
        "        time.sleep(1)\n",
        "    print(\"\\nBoom! That’s the spirit! Keep going! 🔥\")\n",
        "\n",
        "wholesome_machine()\n",
        "\n",
        "\n",
        ""
      ]
    }
  ]
}