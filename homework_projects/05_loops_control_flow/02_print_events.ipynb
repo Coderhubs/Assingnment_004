{
  "nbformat": 4,
  "nbformat_minor": 0,
  "metadata": {
    "colab": {
      "provenance": []
    },
    "kernelspec": {
      "name": "python3",
      "display_name": "Python 3"
    },
    "language_info": {
      "name": "python"
    }
  },
  "cells": [
    {
      "cell_type": "code",
      "execution_count": 6,
      "metadata": {
        "colab": {
          "base_uri": "https://localhost:8080/"
        },
        "id": "CBmSYlz2vmZU",
        "outputId": "83bec18e-0509-4e37-c783-06f42b3c379b"
      },
      "outputs": [
        {
          "output_type": "stream",
          "name": "stdout",
          "text": [
            "🔢 Generating the first 20 even numbers... 🔢\n",
            "\n",
            "0 2 4 6 8 10 12 14 16 18 20 22 24 26 28 30 32 34 36 38 \n",
            "\n",
            "✅ Even number generation complete! ✅\n"
          ]
        }
      ],
      "source": [
        "import time\n",
        "\n",
        "def even_numbers():\n",
        "    \"\"\"Print 20 even numbers\"\"\"\n",
        "\n",
        "    print(\"🔢 Generating the first 20 even numbers... 🔢\\n\")\n",
        "    time.sleep(2)\n",
        "    for even in range(20):\n",
        "        value = even * 2\n",
        "        print(value, end=\" \")\n",
        "    time.sleep(1)\n",
        "    print(\"\\n\\n✅ Even number generation complete! ✅\")\n",
        "\n",
        "even_numbers()\n"
      ]
    }
  ]
}