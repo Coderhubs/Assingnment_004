{
  "nbformat": 4,
  "nbformat_minor": 0,
  "metadata": {
    "colab": {
      "provenance": []
    },
    "kernelspec": {
      "name": "python3",
      "display_name": "Python 3"
    },
    "language_info": {
      "name": "python"
    }
  },
  "cells": [
    {
      "cell_type": "code",
      "execution_count": 15,
      "metadata": {
        "colab": {
          "base_uri": "https://localhost:8080/"
        },
        "id": "Yp_NvwgViMM2",
        "outputId": "49a1f7ee-a2b7-481d-9d22-98c89483bf29"
      },
      "outputs": [
        {
          "output_type": "stream",
          "name": "stdout",
          "text": [
            "📏 How tall are you? 30\n",
            "❌ You are not tall enough. Maybe next year! 💪\n",
            "📏 How tall are you? 50\n",
            "✅ You are tall enough to ride! 🎢 Have fun!\n",
            "📏 How tall are you? 100\n",
            "✅ You are tall enough to ride! 🎢 Have fun!\n",
            "📏 How tall are you? \n",
            "👋 Exiting... See you next time! 🚀\n",
            "🔄 Do you want to check again? (yes/no): no\n",
            "👋 Goodbye! 😊\n"
          ]
        }
      ],
      "source": [
        "minimum_height = 50\n",
        "\n",
        "def tall_enough():\n",
        "    while True:\n",
        "        user_Height = input(\"📏 How tall are you? \")\n",
        "\n",
        "\n",
        "        if user_Height == \"\":\n",
        "            print(\"👋 Exiting... See you next time! 🚀\")\n",
        "            choice = input(\"🔄 Do you want to check again? (yes/no): \").lower()\n",
        "            if choice == \"yes\":\n",
        "                continue\n",
        "            else:\n",
        "                print(\"👋 Goodbye! 😊\")\n",
        "                break\n",
        "\n",
        "        if not user_Height.isdigit():\n",
        "            print(\"⚠️ Please enter a valid number! 🔢\")\n",
        "            continue\n",
        "\n",
        "        user_Height = int(user_Height)\n",
        "\n",
        "        if user_Height >= minimum_height:\n",
        "            print(\"✅ You are tall enough to ride! 🎢 Have fun!\")\n",
        "        else:\n",
        "            print(\"❌ You are not tall enough. Maybe next year! 💪\")\n",
        "\n",
        "tall_enough()\n"
      ]
    }
  ]
}