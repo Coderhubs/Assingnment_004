{
  "nbformat": 4,
  "nbformat_minor": 0,
  "metadata": {
    "colab": {
      "provenance": []
    },
    "kernelspec": {
      "name": "python3",
      "display_name": "Python 3"
    },
    "language_info": {
      "name": "python"
    }
  },
  "cells": [
    {
      "cell_type": "code",
      "execution_count": 9,
      "metadata": {
        "colab": {
          "base_uri": "https://localhost:8080/"
        },
        "id": "STUDZE_ETDCC",
        "outputId": "9d526798-fc02-4258-b23a-02e05abb0a08"
      },
      "outputs": [
        {
          "output_type": "stream",
          "name": "stdout",
          "text": [
            "0\n",
            "2\n",
            "4\n",
            "6\n",
            "8\n",
            "10\n",
            "12\n",
            "14\n",
            "16\n",
            "18\n",
            "20\n",
            "22\n",
            "24\n",
            "26\n",
            "28\n",
            "30\n",
            "32\n",
            "34\n",
            "36\n",
            "38\n"
          ]
        }
      ],
      "source": [
        "def even_numbers():\n",
        "\n",
        "    \"\"\" Print 20 even numbers \"\"\"\n",
        "\n",
        "    for even in range(20):\n",
        "         print(even * 2)\n",
        "\n",
        "even_numbers()\n"
      ]
    },
    {
      "cell_type": "code",
      "source": [],
      "metadata": {
        "id": "s0LaG51MUZ8L"
      },
      "execution_count": null,
      "outputs": []
    }
  ]
}