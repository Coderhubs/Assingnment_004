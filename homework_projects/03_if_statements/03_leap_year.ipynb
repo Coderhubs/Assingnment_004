{
  "nbformat": 4,
  "nbformat_minor": 0,
  "metadata": {
    "colab": {
      "provenance": []
    },
    "kernelspec": {
      "name": "python3",
      "display_name": "Python 3"
    },
    "language_info": {
      "name": "python"
    }
  },
  "cells": [
    {
      "cell_type": "code",
      "execution_count": 15,
      "metadata": {
        "colab": {
          "base_uri": "https://localhost:8080/"
        },
        "id": "e_p4Pj9jdXIq",
        "outputId": "d02c2123-9f98-4f2c-c132-9640ff5214a3"
      },
      "outputs": [
        {
          "output_type": "stream",
          "name": "stdout",
          "text": [
            "📅 Input a Year: 2016\n",
            "\n",
            "✅ That's a leap year!\n",
            "\n",
            "\n",
            "❌ That's not a leap year.\n",
            " \n",
            "\n",
            "❌ That's not a leap year.\n",
            " \n"
          ]
        }
      ],
      "source": [
        "def leap_year():\n",
        "\n",
        "    year = int(input(\"📅 Input a Year: \"))\n",
        "\n",
        "    if year % 4 == 0:\n",
        "        print(\"\\n✅ That's a leap year!\\n\")\n",
        "    else:\n",
        "        print(\"\\n❌ That's not a leap year.\\n \")\n",
        "\n",
        "    if year % 100 == 0:\n",
        "        print(\"\\n✅ That's a leap year!\\n \")\n",
        "    else:\n",
        "        print(\"\\n❌ That's not a leap year.\\n \")\n",
        "\n",
        "    if year % 400 == 0:\n",
        "        print(\"\\n✅ That's a leap year! \\n\")\n",
        "    else:\n",
        "        print(\"\\n❌ That's not a leap year.\\n \")\n",
        "\n",
        "leap_year()\n"
      ]
    }
  ]
}