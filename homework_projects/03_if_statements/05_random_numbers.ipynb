{
  "nbformat": 4,
  "nbformat_minor": 0,
  "metadata": {
    "colab": {
      "provenance": []
    },
    "kernelspec": {
      "name": "python3",
      "display_name": "Python 3"
    },
    "language_info": {
      "name": "python"
    }
  },
  "cells": [
    {
      "cell_type": "code",
      "execution_count": 5,
      "metadata": {
        "colab": {
          "base_uri": "https://localhost:8080/"
        },
        "id": "XHXXyzFpo0lN",
        "outputId": "57f24b1c-ff92-4b90-9ab2-96b34323f641"
      },
      "outputs": [
        {
          "output_type": "stream",
          "name": "stdout",
          "text": [
            "93\n",
            "44\n",
            "66\n",
            "50\n",
            "87\n",
            "45\n",
            "53\n",
            "38\n",
            "20\n",
            "93\n"
          ]
        }
      ],
      "source": [
        "import random\n",
        "\n",
        "N_NUMBERS : int = 10\n",
        "MIN_VALUE : int = 1\n",
        "MAX_VALUE : int = 100\n",
        "\n",
        "\n",
        "def random_numbers():\n",
        "\n",
        "   for i in range(N_NUMBERS):\n",
        "     Value = random.randint(MIN_VALUE , MAX_VALUE)\n",
        "     print(Value)\n",
        "\n",
        "random_numbers()\n"
      ]
    }
  ]
}