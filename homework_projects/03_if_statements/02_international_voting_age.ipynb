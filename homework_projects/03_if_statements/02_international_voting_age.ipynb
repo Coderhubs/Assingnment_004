{
  "nbformat": 4,
  "nbformat_minor": 0,
  "metadata": {
    "colab": {
      "provenance": []
    },
    "kernelspec": {
      "name": "python3",
      "display_name": "Python 3"
    },
    "language_info": {
      "name": "python"
    }
  },
  "cells": [
    {
      "cell_type": "code",
      "execution_count": 19,
      "metadata": {
        "colab": {
          "base_uri": "https://localhost:8080/"
        },
        "id": "TThP_T_7XQH6",
        "outputId": "77211843-046b-4c92-8570-a44da12342c8"
      },
      "outputs": [
        {
          "output_type": "stream",
          "name": "stdout",
          "text": [
            "📝 How old are you? 48\n",
            "\n",
            "✅ You are eligible to vote at Peturksbouipo's voting age!🗳️\n",
            "\n",
            "\n",
            "✅ You meet Stanlau's voting age requirement! 🗳️\n",
            "\n",
            "\n",
            "✅ Wow! You qualify for Mayengua's voting age! 🗳️\n",
            "\n"
          ]
        }
      ],
      "source": [
        "age_Peturksbouipo: int = 16\n",
        "age_Stanlau: int = 25\n",
        "age_Mayengua: int = 48\n",
        "\n",
        "def voting_age():\n",
        "    user_age = int(input(\"📝 How old are you? \"))\n",
        "\n",
        "    if user_age >= age_Peturksbouipo:\n",
        "        print(\"\\n✅ You are eligible to vote at Peturksbouipo's voting age!🗳️\\n\")\n",
        "    else:\n",
        "        print(\"❌ Sorry, you cannot vote at Peturksbouipo's voting age yet. ⏳\")\n",
        "\n",
        "    if user_age >= age_Stanlau:\n",
        "        print(\"\\n✅ You meet Stanlau's voting age requirement! 🗳️\\n\")\n",
        "    else:\n",
        "        print(\"❌ You need to wait longer to vote at Stanlau's voting age. ⏳\")\n",
        "\n",
        "    if user_age >= age_Mayengua:\n",
        "        print(\"\\n✅ Wow! You qualify for Mayengua's voting age! 🗳️\\n\")\n",
        "    else:\n",
        "        print(\"\\n❌ You are not old enough for Mayengua's voting age yet. 🚫\\n\")\n",
        "\n",
        "voting_age()\n"
      ]
    }
  ]
}