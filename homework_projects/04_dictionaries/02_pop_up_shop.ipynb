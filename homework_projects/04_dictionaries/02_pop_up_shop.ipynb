{
  "nbformat": 4,
  "nbformat_minor": 0,
  "metadata": {
    "colab": {
      "provenance": []
    },
    "kernelspec": {
      "name": "python3",
      "display_name": "Python 3"
    },
    "language_info": {
      "name": "python"
    }
  },
  "cells": [
    {
      "cell_type": "code",
      "execution_count": 9,
      "metadata": {
        "colab": {
          "base_uri": "https://localhost:8080/"
        },
        "id": "TWxXMwe8wSH7",
        "outputId": "3451add5-7e29-458b-b737-86876fe755b4"
      },
      "outputs": [
        {
          "output_type": "stream",
          "name": "stdout",
          "text": [
            "🛒 How many 🍏 Apple do you want to buy?: 2\n",
            "🛒 How many 🌳 Durian do you want to buy?: 3\n",
            "🛒 How many 🌿 Jackfruit do you want to buy?: 4\n",
            "🛒 How many 🥝 Kiwi do you want to buy?: 6\n",
            "🛒 How many 🎇 Rambutan do you want to buy?: 7\n",
            "🛒 How many 🥭 Mango do you want to buy?: 8\n",
            "\n",
            "💰 Your total is $529.50.\n",
            "    \n",
            " Thank you for shopping! 😊\n"
          ]
        }
      ],
      "source": [
        "def fruit_shops():\n",
        "    fruits = {\n",
        "        '🍏 Apple': 1.5,\n",
        "        '🌳 Durian': 50,\n",
        "        '🌿 Jackfruit': 80,\n",
        "        '🥝 Kiwi': 1,\n",
        "        '🎇 Rambutan': 1.5,\n",
        "        '🥭 Mango': 5\n",
        "    }\n",
        "\n",
        "    total_cost = 0\n",
        "    for Fruit_Names in fruits:\n",
        "        price = fruits[Fruit_Names]\n",
        "        amount_bought = int(input(f\"🛒 How many {Fruit_Names} do you want to buy?: \"))\n",
        "        total_cost += (price * amount_bought)\n",
        "\n",
        "    print(f\"\"\"\\n💰 Your total is ${total_cost:.2f}.\n",
        "    \\n Thank you for shopping! 😊\"\"\")\n",
        "\n",
        "fruit_shops()\n"
      ]
    },
    {
      "cell_type": "code",
      "source": [],
      "metadata": {
        "id": "xwVEFPmZ1Otv"
      },
      "execution_count": null,
      "outputs": []
    }
  ]
}