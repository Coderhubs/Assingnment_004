{
  "nbformat": 4,
  "nbformat_minor": 0,
  "metadata": {
    "colab": {
      "provenance": []
    },
    "kernelspec": {
      "name": "python3",
      "display_name": "Python 3"
    },
    "language_info": {
      "name": "python"
    }
  },
  "cells": [
    {
      "cell_type": "code",
      "execution_count": 12,
      "metadata": {
        "colab": {
          "base_uri": "https://localhost:8080/"
        },
        "id": "FdvO_rxoexAu",
        "outputId": "ff092fd1-efef-42e6-bc83-299cebb97c90"
      },
      "outputs": [
        {
          "output_type": "stream",
          "name": "stdout",
          "text": [
            "➕ Enter a number: 2\n",
            "➕ Enter a number: 2\n",
            "➕ Enter a number: 3\n",
            "➕ Enter a number: 3\n",
            "➕ Enter a number: 4\n",
            "➕ Enter a number: 4\n",
            "➕ Enter a number: \n",
            "\n",
            "2 appears 2 times 🔢\n",
            "\n",
            "3 appears 2 times 🔢\n",
            "\n",
            "4 appears 2 times 🔢\n"
          ]
        }
      ],
      "source": [
        "def user_numbers():\n",
        "\n",
        "    numbers = []\n",
        "\n",
        "    while True:\n",
        "        user_input = input(\"➕ Enter a number: \")\n",
        "\n",
        "        if user_input == \"\":\n",
        "            break\n",
        "\n",
        "        numbers.append(int(user_input))\n",
        "\n",
        "    num_counts = {}\n",
        "\n",
        "    for num in numbers:\n",
        "        num_counts[num] = num_counts.get(num, 0) + 1\n",
        "\n",
        "    for num, count in num_counts.items():\n",
        "        print(f\"\\n{num} appears {count} times 🔢\")\n",
        "\n",
        "user_numbers()\n"
      ]
    }
  ]
}