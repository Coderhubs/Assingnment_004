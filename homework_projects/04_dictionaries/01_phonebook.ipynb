{
  "nbformat": 4,
  "nbformat_minor": 0,
  "metadata": {
    "colab": {
      "provenance": []
    },
    "kernelspec": {
      "name": "python3",
      "display_name": "Python 3"
    },
    "language_info": {
      "name": "python"
    }
  },
  "cells": [
    {
      "cell_type": "code",
      "execution_count": null,
      "metadata": {
        "colab": {
          "base_uri": "https://localhost:8080/"
        },
        "id": "RXCavxvCl0de",
        "outputId": "f0243368-b714-4043-e511-bf09ff183b19"
      },
      "outputs": [
        {
          "output_type": "stream",
          "name": "stdout",
          "text": [
            "Enter user name: simra\n",
            "Enter user number: +9234566\n",
            "Enter user name: Habib\n",
            "Enter user number: +92317980\n",
            "Enter user name: Jack\n",
            "Enter user number: +1210987\n",
            "Enter user name: \n",
            "\n",
            "📖 Phonebook:\n",
            "simra ----> +9234566\n",
            "Habib ----> +92317980\n",
            "Jack ----> +1210987\n",
            "\n",
            "🔍 Enter username to search (press Enter to stop): simra\n",
            "📞 simra's number: +9234566\n",
            "\n",
            "🔍 Enter username to search (press Enter to stop): jack\n",
            "❌ Name not found in phonebook.\n",
            "\n",
            "🔍 Enter username to search (press Enter to stop): +1210987\n",
            "❌ Name not found in phonebook.\n",
            "\n",
            "🔍 Enter username to search (press Enter to stop): Jack\n",
            "📞 Jack's number: +1210987\n",
            "\n",
            "🔍 Enter username to search (press Enter to stop): Habib\n",
            "📞 Habib's number: +92317980\n"
          ]
        }
      ],
      "source": [
        "def read_phone_numbers():\n",
        "    Phonebook = {}\n",
        "\n",
        "    while True:\n",
        "        user_name = input(\"Enter user name: \")\n",
        "\n",
        "        if user_name == \"\":\n",
        "            break\n",
        "\n",
        "        Phone_Num = input(\"Enter user number: \")\n",
        "        Phonebook[user_name] = Phone_Num\n",
        "\n",
        "    return Phonebook\n",
        "\n",
        "\n",
        "def print_phonebook(Phonebook):\n",
        "    print(\"\\n📖 Phonebook:\")\n",
        "\n",
        "    for user_name, Phone_Num in Phonebook.items():\n",
        "        print(f\"{user_name} ----> {Phone_Num}\")\n",
        "\n",
        "\n",
        "def lookup_numbers(Phonebook):\n",
        "    while True:\n",
        "        user_Input = input(\"\\n🔍 Enter username to search (press Enter to stop): \")\n",
        "\n",
        "        if user_Input == \"\":\n",
        "            break\n",
        "\n",
        "        if user_Input in Phonebook:\n",
        "            print(f\"📞 {user_Input}'s number: {Phonebook[user_Input]}\")\n",
        "        else:\n",
        "            print(\"❌ Name not found in phonebook.\")\n",
        "\n",
        "\n",
        "def main():\n",
        "    Phonebook = read_phone_numbers()\n",
        "    print_phonebook(Phonebook)\n",
        "    lookup_numbers(Phonebook)\n",
        "\n",
        "\n",
        "main()\n"
      ]
    },
    {
      "cell_type": "code",
      "source": [],
      "metadata": {
        "id": "Xx0bRH-mpdME"
      },
      "execution_count": null,
      "outputs": []
    }
  ]
}