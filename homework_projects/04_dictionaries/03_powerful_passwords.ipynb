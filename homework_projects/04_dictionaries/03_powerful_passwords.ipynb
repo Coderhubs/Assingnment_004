{
  "nbformat": 4,
  "nbformat_minor": 0,
  "metadata": {
    "colab": {
      "provenance": []
    },
    "kernelspec": {
      "name": "python3",
      "display_name": "Python 3"
    },
    "language_info": {
      "name": "python"
    }
  },
  "cells": [
    {
      "cell_type": "code",
      "execution_count": 6,
      "metadata": {
        "colab": {
          "base_uri": "https://localhost:8080/"
        },
        "id": "3ixauGHn-5iZ",
        "outputId": "4539bf40-5d2c-4946-833b-d8989a52770e"
      },
      "outputs": [
        {
          "output_type": "stream",
          "name": "stdout",
          "text": [
            "True\n",
            "False\n",
            "True\n",
            "True\n",
            "False\n"
          ]
        }
      ],
      "source": [
        "from hashlib import sha256\n",
        "\n",
        "def hash_passwords(password):\n",
        "\n",
        "    return sha256(password.encode()).hexdigest()\n",
        "\n",
        "\n",
        "def check_login(email, stored_data, password):\n",
        "\n",
        "    return stored_data.get(email) == hash_passwords(password)\n",
        "\n",
        "\n",
        "def main():\n",
        "\n",
        "    stored_data = {\n",
        "        \"simrajabeen16@gmail.com\": hash_passwords(\"simra11\"),\n",
        "        \"Aliahmed2@gmail.com\": hash_passwords(\"pakistan01\"),\n",
        "        \"coderhub123@gmail.com\": hash_passwords(\"code1234\")\n",
        "\n",
        "    }\n",
        "\n",
        "    print(check_login(\"simrajabeen16@gmail.com\", stored_data, \"simra11\"))\n",
        "    print(check_login(\"Aliahmed2@gmail.com\", stored_data, \"pak_123\"))\n",
        "    print(check_login(\"Aliahmed2@gmail.com\", stored_data, \"pakistan01\"))\n",
        "    print(check_login(\"coderhub123@gmail.com\", stored_data, \"code1234\"))\n",
        "    print(check_login(\"coderhub123@gmail.com\", stored_data, \"code982\"))\n",
        "\n",
        "\n",
        "\n",
        "main()"
      ]
    }
  ]
}