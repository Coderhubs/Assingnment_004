{
  "nbformat": 4,
  "nbformat_minor": 0,
  "metadata": {
    "colab": {
      "provenance": []
    },
    "kernelspec": {
      "name": "python3",
      "display_name": "Python 3"
    },
    "language_info": {
      "name": "python"
    }
  },
  "cells": [
    {
      "cell_type": "code",
      "execution_count": 9,
      "metadata": {
        "colab": {
          "base_uri": "https://localhost:8080/"
        },
        "id": "A7g9pZvuEwGI",
        "outputId": "1aa5b922-34d4-4874-cfef-17eabf4f0614"
      },
      "outputs": [
        {
          "output_type": "stream",
          "name": "stdout",
          "text": [
            "🌡️ Enter temperature in Fahrenheit: 1\n",
            "\n",
            "✅ Temperature in Celsius: -17.22°C 🌍\n"
          ]
        }
      ],
      "source": [
        "def convert_to_measure():\n",
        "\n",
        "  degrees_fahrenheit = float(input(\"🌡️ Enter temperature in Fahrenheit: \"))\n",
        "\n",
        "\n",
        "  degrees_celsius = (degrees_fahrenheit - 32) * 5.0/9.0\n",
        "\n",
        "  print(f\"\\n✅ Temperature in Celsius: {degrees_celsius:.2f}°C 🌍\")\n",
        "\n",
        "convert_to_measure()\n"
      ]
    }
  ]
}