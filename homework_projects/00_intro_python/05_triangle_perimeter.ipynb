{
  "nbformat": 4,
  "nbformat_minor": 0,
  "metadata": {
    "colab": {
      "provenance": []
    },
    "kernelspec": {
      "name": "python3",
      "display_name": "Python 3"
    },
    "language_info": {
      "name": "python"
    }
  },
  "cells": [
    {
      "cell_type": "code",
      "execution_count": null,
      "metadata": {
        "colab": {
          "base_uri": "https://localhost:8080/"
        },
        "id": "qf-0srr7KwLo",
        "outputId": "747759fe-4d89-4be7-a3a9-0b26ab764611"
      },
      "outputs": [
        {
          "output_type": "stream",
          "name": "stdout",
          "text": [
            "What is the length of side 1 :2\n",
            "What is the length of side 2 :3\n",
            "What is the length of side 3 :4\n",
            "The Perimeter of the triangle is 9.0\n"
          ]
        }
      ],
      "source": [
        "def triangle_parameter():\n",
        "\n",
        "    length_1: float = float(input(\"What is the length of side 1 :\"))\n",
        "    length_2: float = float(input(\"What is the length of side 2 :\"))\n",
        "    length_3: float = float(input(\"What is the length of side 3 :\"))\n",
        "\n",
        "    print(\"The Perimeter of the triangle is \" + str(length_1 + length_2 + length_3)) # Fixed typo in \"Perimeter\"\n",
        "\n",
        "\n",
        "\n",
        "triangle_parameter()"
      ]
    }
  ]
}