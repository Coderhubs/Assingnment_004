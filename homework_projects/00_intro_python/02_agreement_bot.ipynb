{
  "nbformat": 4,
  "nbformat_minor": 0,
  "metadata": {
    "colab": {
      "provenance": []
    },
    "kernelspec": {
      "name": "python3",
      "display_name": "Python 3"
    },
    "language_info": {
      "name": "python"
    }
  },
  "cells": [
    {
      "cell_type": "code",
      "execution_count": 4,
      "metadata": {
        "colab": {
          "base_uri": "https://localhost:8080/"
        },
        "id": "ld05lDcHC5VB",
        "outputId": "3fcbd782-8279-40c8-91c7-9c85cc1b055f"
      },
      "outputs": [
        {
          "output_type": "stream",
          "name": "stdout",
          "text": [
            "🐾 What's your favorite animal? cat\n",
            "\n",
            " 🎉 My favorite animal is also cat! 🐾\n"
          ]
        }
      ],
      "source": [
        "def fvrtanimal():\n",
        "    animal1: str = input(\"🐾 What's your favorite animal? \")\n",
        "    print(f\"\\n 🎉 My favorite animal is also {animal1}! 🐾\")\n",
        "\n",
        "fvrtanimal()\n"
      ]
    },
    {
      "cell_type": "markdown",
      "source": [],
      "metadata": {
        "id": "FhD8ERqKDx7X"
      }
    },
    {
      "cell_type": "markdown",
      "source": [],
      "metadata": {
        "id": "-DMTSm05Dx4i"
      }
    },
    {
      "cell_type": "markdown",
      "source": [],
      "metadata": {
        "id": "FvelSyDODxhz"
      }
    }
  ]
}