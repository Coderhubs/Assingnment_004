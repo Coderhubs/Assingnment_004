{
  "nbformat": 4,
  "nbformat_minor": 0,
  "metadata": {
    "colab": {
      "provenance": []
    },
    "kernelspec": {
      "name": "python3",
      "display_name": "Python 3"
    },
    "language_info": {
      "name": "python"
    }
  },
  "cells": [
    {
      "cell_type": "code",
      "execution_count": 13,
      "metadata": {
        "colab": {
          "base_uri": "https://localhost:8080/"
        },
        "id": "uXd683FVHO5r",
        "outputId": "96e1eb42-ea24-4faa-d851-90c767927d28"
      },
      "outputs": [
        {
          "output_type": "stream",
          "name": "stdout",
          "text": [
            "👦👧👨‍🦳 **Age Riddle!** 🧩\n",
            "\n",
            "🎉 Anton is 21 years old\n",
            "\n",
            "🎉 Beth is 27 years old\n",
            "\n",
            "🎉 Chen is 47 years old\n",
            "\n",
            "🎉 Drew is 68 years old\n",
            "\n",
            "🎉 Ethan is 47 years old\n",
            "\n"
          ]
        }
      ],
      "source": [
        "def age_riddle():\n",
        "    print(\"👦👧👨‍🦳 **Age Riddle!** 🧩\\n\")\n",
        "\n",
        "\n",
        "    anton: int = 21\n",
        "    beth: int = 6 + anton\n",
        "    chen: int = 20 + beth\n",
        "    drew: int = chen + anton\n",
        "    ethan: int = chen\n",
        "\n",
        "    print(f\"🎉 Anton is {anton} years old\\n\")\n",
        "    print(f\"🎉 Beth is {beth} years old\\n\")\n",
        "    print(f\"🎉 Chen is {chen} years old\\n\")\n",
        "    print(f\"🎉 Drew is {drew} years old\\n\")\n",
        "    print(f\"🎉 Ethan is {ethan} years old\\n\")\n",
        "\n",
        "age_riddle()\n"
      ]
    }
  ]
}