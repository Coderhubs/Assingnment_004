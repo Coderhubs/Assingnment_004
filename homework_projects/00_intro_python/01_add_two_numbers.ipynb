{
  "nbformat": 4,
  "nbformat_minor": 0,
  "metadata": {
    "colab": {
      "provenance": []
    },
    "kernelspec": {
      "name": "python3",
      "display_name": "Python 3"
    },
    "language_info": {
      "name": "python"
    }
  },
  "cells": [
    {
      "cell_type": "code",
      "source": [
        "def add():\n",
        "    num1: str = input(f\"\\n🔢 Enter the first number: \")\n",
        "    num1 = int(num1)\n",
        "\n",
        "    num2: str = input(f\"\\n🔢 Enter the second number: \")\n",
        "    num2 = int(num2)\n",
        "\n",
        "    total: int = num1 + num2\n",
        "    print(f\"\\n✨ The total sum of 🔢 {num1} and 🔢 {num2} is: \\n 🎉 {total} ✨\")\n",
        "\n",
        "add()\n"
      ],
      "metadata": {
        "colab": {
          "base_uri": "https://localhost:8080/"
        },
        "id": "RZBzGN0t8PS5",
        "outputId": "8d92ec7f-ab83-44c6-a830-218623a7276c"
      },
      "execution_count": 55,
      "outputs": [
        {
          "output_type": "stream",
          "name": "stdout",
          "text": [
            "\n",
            "🔢 Enter the first number: 2\n",
            "\n",
            "🔢 Enter the second number: 5\n",
            "\n",
            "✨ The total sum of 🔢 2 and 🔢 5 is: \n",
            " 🎉 7 ✨\n"
          ]
        }
      ]
    }
  ]
}