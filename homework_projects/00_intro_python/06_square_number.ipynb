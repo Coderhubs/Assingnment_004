{
  "nbformat": 4,
  "nbformat_minor": 0,
  "metadata": {
    "colab": {
      "provenance": []
    },
    "kernelspec": {
      "name": "python3",
      "display_name": "Python 3"
    },
    "language_info": {
      "name": "python"
    }
  },
  "cells": [
    {
      "cell_type": "code",
      "execution_count": null,
      "metadata": {
        "colab": {
          "base_uri": "https://localhost:8080/"
        },
        "id": "7e-yssRZmmNP",
        "outputId": "af091668-6941-4778-c026-f3f580ccc5c4"
      },
      "outputs": [
        {
          "output_type": "stream",
          "name": "stdout",
          "text": [
            "🔢✨Enter a number, and watch the magic of squaring! ✨🔢\n",
            "➡️2\n",
            "2.0 square is 4.0\n"
          ]
        }
      ],
      "source": [
        "def square():\n",
        "\n",
        "    square_num: float = float(input(\"🔢✨Enter a number, and watch the magic of squaring! ✨🔢\\n➡️\"))\n",
        "\n",
        "    print( str(square_num) + \" square is \" + str(square_num ** 2))\n",
        "\n",
        "square()"
      ]
    }
  ]
}