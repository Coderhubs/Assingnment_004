{
  "nbformat": 4,
  "nbformat_minor": 0,
  "metadata": {
    "colab": {
      "provenance": []
    },
    "kernelspec": {
      "name": "python3",
      "display_name": "Python 3"
    },
    "language_info": {
      "name": "python"
    }
  },
  "cells": [
    {
      "cell_type": "code",
      "execution_count": 6,
      "metadata": {
        "colab": {
          "base_uri": "https://localhost:8080/"
        },
        "id": "CDAiW0g83M1L",
        "outputId": "397fbe7f-89cf-421d-bc3d-f7a5e51e38bd"
      },
      "outputs": [
        {
          "output_type": "stream",
          "name": "stdout",
          "text": [
            "There are 31536000 Seconds in year!\n"
          ]
        }
      ],
      "source": [
        "# You should use constants for this exercise -- there are 365 days in a year,\n",
        "# 24 hours in a day, 60 minutes in an hour, and 60 seconds per minute.\n",
        "\n",
        "Days_Per_year: int = 365\n",
        "Hours_Per_Day: int = 24\n",
        "Min_Per_Hour:  int = 60\n",
        "Sec_Per_Min :  int = 60\n",
        "\n",
        "\n",
        "def seconds_in_year():\n",
        "\n",
        "     print(\"There are \" + str(Days_Per_year * Hours_Per_Day * Min_Per_Hour * Sec_Per_Min) + \" Seconds in year!\")\n",
        "\n",
        "seconds_in_year()"
      ]
    }
  ]
}