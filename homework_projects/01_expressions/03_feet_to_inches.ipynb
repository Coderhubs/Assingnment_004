{
  "nbformat": 4,
  "nbformat_minor": 0,
  "metadata": {
    "colab": {
      "provenance": []
    },
    "kernelspec": {
      "name": "python3",
      "display_name": "Python 3"
    },
    "language_info": {
      "name": "python"
    }
  },
  "cells": [
    {
      "cell_type": "code",
      "execution_count": 5,
      "metadata": {
        "colab": {
          "base_uri": "https://localhost:8080/"
        },
        "id": "IFgyunDsp4wm",
        "outputId": "c8e3f7bb-1fd5-4cc2-898a-c20d8aa1fd21"
      },
      "outputs": [
        {
          "output_type": "stream",
          "name": "stdout",
          "text": [
            "Enter a number of feet: 3\n",
            "This is inches 36.0\n"
          ]
        }
      ],
      "source": [
        "INCHES_IN_FOOT: int = 12\n",
        "\n",
        "\n",
        "def feet_to_inch():\n",
        "\n",
        "   feet: float = float(input(\"Enter a number of feet: \"))\n",
        "   inches: float = feet * INCHES_IN_FOOT\n",
        "\n",
        "   print(\"This is inches\" , inches)\n",
        "\n",
        "feet_to_inch()"
      ]
    },
    {
      "cell_type": "code",
      "source": [],
      "metadata": {
        "id": "zSU7kwDQqVkS"
      },
      "execution_count": null,
      "outputs": []
    }
  ]
}