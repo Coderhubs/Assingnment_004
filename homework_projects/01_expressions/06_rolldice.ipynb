{
  "nbformat": 4,
  "nbformat_minor": 0,
  "metadata": {
    "colab": {
      "provenance": []
    },
    "kernelspec": {
      "name": "python3",
      "display_name": "Python 3"
    },
    "language_info": {
      "name": "python"
    }
  },
  "cells": [
    {
      "cell_type": "code",
      "execution_count": 12,
      "metadata": {
        "colab": {
          "base_uri": "https://localhost:8080/"
        },
        "id": "tULwohJbyEjO",
        "outputId": "83caadc4-099e-4086-ab5f-32f6330f14b8"
      },
      "outputs": [
        {
          "output_type": "stream",
          "name": "stdout",
          "text": [
            " 🎲 The dice have 6 sides 🎲\n",
            "\n",
            "First die rolled:     2\n",
            "Second die rolled:    5\n",
            "Total of both dice:   7\n"
          ]
        }
      ],
      "source": [
        "import random\n",
        "\n",
        "Roll_dice = 6\n",
        "\n",
        "\n",
        "def dice_rolling():\n",
        "\n",
        "    dice_1: int = random.randint(1 , Roll_dice)\n",
        "    dice_2: int = random.randint(1 , Roll_dice)\n",
        "    total: int = dice_1 + dice_2\n",
        "\n",
        "\n",
        "    print(f\" 🎲 The dice have {Roll_dice} sides 🎲\\n\")\n",
        "    print(f\"First die rolled:     {dice_1}\")\n",
        "    print(f\"Second die rolled:    {dice_2}\")\n",
        "    print(f\"Total of both dice:   {total}\")\n",
        "\n",
        "\n",
        "dice_rolling()"
      ]
    }
  ]
}