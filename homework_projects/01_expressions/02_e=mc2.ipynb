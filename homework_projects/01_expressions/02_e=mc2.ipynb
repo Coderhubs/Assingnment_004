{
  "nbformat": 4,
  "nbformat_minor": 0,
  "metadata": {
    "colab": {
      "provenance": []
    },
    "kernelspec": {
      "name": "python3",
      "display_name": "Python 3"
    },
    "language_info": {
      "name": "python"
    }
  },
  "cells": [
    {
      "cell_type": "code",
      "execution_count": 2,
      "metadata": {
        "colab": {
          "base_uri": "https://localhost:8080/"
        },
        "id": "5fcmcTC_lhFn",
        "outputId": "4143e20d-61a3-4249-e6ec-b286511802f7"
      },
      "outputs": [
        {
          "output_type": "stream",
          "name": "stdout",
          "text": [
            "Enter a Kilo of mass: 10\n",
            "e = m * C^2...\n",
            "m = 10.0 kg \n",
            "C = 299792458m/s\n",
            "8.987551787368177e+17joules of energy!\n"
          ]
        }
      ],
      "source": [
        "C: int = 299792458\n",
        "\n",
        "def einstein_eq():\n",
        "\n",
        "    mass: float = float(input(\"Enter a Kilo of mass: \"))\n",
        "\n",
        "    energy_in_joules: float = mass * (C ** 2)\n",
        "\n",
        "    print(\"e = m * C^2...\")\n",
        "    print(\"m = \" + str(mass) + \" kg \")\n",
        "    print(\"C = \" + str(C) + \"m/s\")\n",
        "\n",
        "    print(str(energy_in_joules) + \"joules of energy!\")\n",
        "\n",
        "einstein_eq()\n",
        "\n",
        "\n"
      ]
    }
  ]
}