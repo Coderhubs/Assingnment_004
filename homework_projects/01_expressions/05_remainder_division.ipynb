{
  "nbformat": 4,
  "nbformat_minor": 0,
  "metadata": {
    "colab": {
      "provenance": []
    },
    "kernelspec": {
      "name": "python3",
      "display_name": "Python 3"
    },
    "language_info": {
      "name": "python"
    }
  },
  "cells": [
    {
      "cell_type": "code",
      "execution_count": 6,
      "metadata": {
        "colab": {
          "base_uri": "https://localhost:8080/"
        },
        "id": "3KsKmJM9t6CE",
        "outputId": "eef053b6-c41a-4c28-9131-efc360bc9015"
      },
      "outputs": [
        {
          "output_type": "stream",
          "name": "stdout",
          "text": [
            "Enter a number for dividend : 10\n",
            "Enter a number for divisor : 5\n",
            "The value of quotient is 2 and remainder is 0\n"
          ]
        }
      ],
      "source": [
        "def division():\n",
        "\n",
        "  dividend: int = int(input(\"Enter a number for dividend : \"))\n",
        "  divisor: int = int(input(\"Enter a number for divisor : \"))\n",
        "\n",
        "\n",
        "  quotient: int = dividend // divisor\n",
        "  remainder:int = dividend % divisor\n",
        "\n",
        "\n",
        "  print(f\"The value of quotient is {quotient} and remainder is {remainder}\")\n",
        "\n",
        "division()"
      ]
    }
  ]
}