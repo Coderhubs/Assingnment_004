{
  "nbformat": 4,
  "nbformat_minor": 0,
  "metadata": {
    "colab": {
      "provenance": []
    },
    "kernelspec": {
      "name": "python3",
      "display_name": "Python 3"
    },
    "language_info": {
      "name": "python"
    }
  },
  "cells": [
    {
      "cell_type": "code",
      "execution_count": 10,
      "metadata": {
        "colab": {
          "base_uri": "https://localhost:8080/"
        },
        "id": "CEft-jUq57Z8",
        "outputId": "9c65e060-78a3-49ed-87b4-f76fa9e77124"
      },
      "outputs": [
        {
          "output_type": "stream",
          "name": "stdout",
          "text": [
            "🎨 Enter an adjective, then press Enter: exciting\n",
            "🐱 Enter a noun, then press Enter: game\n",
            "🏃 Enter a verb, then press Enter: build\n",
            "\n",
            "🚀 Code in Place is fun! I learned to program and used Python to make my  exciting game build ! 🎉😃\n"
          ]
        }
      ],
      "source": [
        "SENTENCE_START: str = \"🚀 Code in Place is fun! I learned to program and used Python to make my \"\n",
        "\n",
        "def mad_lib():\n",
        "\n",
        "    adjective: str = input(\"🎨 Enter an adjective, then press Enter: \")\n",
        "    noun: str = input(\"🐱 Enter a noun, then press Enter: \")\n",
        "    verb: str = input(\"🏃 Enter a verb, then press Enter: \")\n",
        "\n",
        "    print(f\"\\n{SENTENCE_START} {adjective} {noun} {verb} ! 🎉😃\")\n",
        "\n",
        "mad_lib()\n"
      ]
    }
  ]
}