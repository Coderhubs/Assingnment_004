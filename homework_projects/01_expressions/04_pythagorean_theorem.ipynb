{
  "nbformat": 4,
  "nbformat_minor": 0,
  "metadata": {
    "colab": {
      "provenance": []
    },
    "kernelspec": {
      "name": "python3",
      "display_name": "Python 3"
    },
    "language_info": {
      "name": "python"
    }
  },
  "cells": [
    {
      "cell_type": "code",
      "execution_count": 2,
      "metadata": {
        "colab": {
          "base_uri": "https://localhost:8080/"
        },
        "id": "pOL0gxORr1PE",
        "outputId": "0ce36e26-ee89-40f6-fd15-b999bbdae5b8"
      },
      "outputs": [
        {
          "output_type": "stream",
          "name": "stdout",
          "text": [
            "Enter a length of AB : 6\n",
            "Enter a length of AB : 8\n",
            "The length of Hypotenuse BC is :  10.0\n"
          ]
        }
      ],
      "source": [
        "#Find the value of hypothesis\n",
        "# Enter the length of AB: 3\n",
        "# Enter the length of AC: 4\n",
        "# The length of BC (the hypotenuse) is: 5.0\n",
        "\n",
        "import math\n",
        "\n",
        "\n",
        "def pythogoras_theorem():\n",
        "\n",
        "    AB: float = float(input(\"Enter a length of AB : \"))\n",
        "    AC: float = float(input(\"Enter a length of AB : \"))\n",
        "\n",
        "    BC: float = math.sqrt(AB**2 + AC**2)\n",
        "\n",
        "    print(\"The length of Hypotenuse BC is : \" , BC)\n",
        "\n",
        "pythogoras_theorem()\n",
        "\n",
        "\n"
      ]
    },
    {
      "cell_type": "markdown",
      "source": [],
      "metadata": {
        "id": "cndnDTb1r7xP"
      }
    }
  ]
}