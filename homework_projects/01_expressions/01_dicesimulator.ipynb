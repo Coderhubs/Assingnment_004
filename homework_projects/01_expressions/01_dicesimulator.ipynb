{
  "nbformat": 4,
  "nbformat_minor": 0,
  "metadata": {
    "colab": {
      "provenance": []
    },
    "kernelspec": {
      "name": "python3",
      "display_name": "Python 3"
    },
    "language_info": {
      "name": "python"
    }
  },
  "cells": [
    {
      "cell_type": "code",
      "execution_count": 29,
      "metadata": {
        "colab": {
          "base_uri": "https://localhost:8080/"
        },
        "id": "OLrW2m5xe8fJ",
        "outputId": "8e4904f8-89d6-4cdc-c475-1a9c04873bff"
      },
      "outputs": [
        {
          "output_type": "stream",
          "name": "stdout",
          "text": [
            "value if dice_1 in main: 10\n",
            "Total Sum of two dice :  8\n",
            "Total Sum of two dice :  4\n",
            "Total Sum of two dice :  8\n",
            "Value of die1 in main() after rolling: 10\n"
          ]
        }
      ],
      "source": [
        "import random\n",
        "\n",
        "Dice = 6\n",
        "\n",
        "\n",
        "def dice_rolling():\n",
        "\n",
        "    dice_1: int = random.randint(1, Dice)\n",
        "    dice_2: int = random.randint(1, Dice)\n",
        "    total:  int = dice_1 + dice_2\n",
        "\n",
        "    print(\"Total Sum of two dice : \" , total)\n",
        "\n",
        "\n",
        "def main():\n",
        "  dice_1 = 10\n",
        "  print(f\"value if dice_1 in main: {dice_1}\")\n",
        "\n",
        "  dice_rolling()\n",
        "  dice_rolling()\n",
        "  dice_rolling()\n",
        "\n",
        "  print(f\"Value of die1 in main() after rolling: {dice_1}\")\n",
        "\n",
        "main()\n",
        "\n",
        "\n",
        "\n",
        "\n"
      ]
    }
  ]
}